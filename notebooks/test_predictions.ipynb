{
 "cells": [
  {
   "cell_type": "code",
   "execution_count": 7,
   "id": "8ced402b",
   "metadata": {},
   "outputs": [
    {
     "data": {
      "text/plain": [
       "'over the past year multinational corporations have undergone major \\nstrategic transformations to ada'"
      ]
     },
     "execution_count": 7,
     "metadata": {},
     "output_type": "execute_result"
    }
   ],
   "source": [
    "import re\n",
    "import os\n",
    "import fitz\n",
    "from docx import Document\n",
    "\n",
    "\n",
    "def clean_text(text):\n",
    "    text = text.lower()\n",
    "    text = re.sub(r\"[^a-zA-Z0-9\\s]\", \"\", text)\n",
    "    return text\n",
    "\n",
    "def read_file(doc_path):\n",
    "    ext = os.path.splitext(doc_path)[1].lower()\n",
    "\n",
    "    if ext == \".txt\":\n",
    "        with open(doc_path, \"r\", encoding=\"utf-8\") as f:\n",
    "            return f.read()\n",
    "        \n",
    "\n",
    "    elif ext == \".pdf\":\n",
    "        text = \"\"\n",
    "        with fitz.open(doc_path) as doc:\n",
    "            for page in doc:\n",
    "                text += page.get_text()\n",
    "\n",
    "        return text\n",
    "    \n",
    "    elif ext == \".docx\":\n",
    "        doc = Document(doc_path)\n",
    "        return \"\\n\".join([para.text for para in doc.paragraphs])\n",
    "    \n",
    "\n",
    "    else:\n",
    "        raise ValueError(f\"Unsupported file type: {ext}\")\n",
    "    \n",
    "\n",
    "doc_path = \"../data/sample_pdf.pdf\"\n",
    "\n",
    "raw_text = read_file(doc_path)\n",
    "\n",
    "new_text_clean = clean_text(raw_text)\n",
    "new_text_clean[:100]"
   ]
  },
  {
   "cell_type": "code",
   "execution_count": 8,
   "id": "142b93a5",
   "metadata": {},
   "outputs": [
    {
     "name": "stdout",
     "output_type": "stream",
     "text": [
      "📄 Document: ../data/sample_pdf.pdf\n",
      "🧠 Predicted Label (SVM): business (Confidence: 0.88)\n"
     ]
    },
    {
     "data": {
      "text/html": [
       "<a href='../reports/classification_results.csv' target='_blank'>../reports/classification_results.csv</a><br>"
      ],
      "text/plain": [
       "c:\\Users\\acer\\Desktop\\Document Analyzer\\reports\\classification_results.csv"
      ]
     },
     "execution_count": 8,
     "metadata": {},
     "output_type": "execute_result"
    }
   ],
   "source": [
    "import joblib\n",
    "import os\n",
    "from IPython.display import FileLink\n",
    "vectorizer = joblib.load(\"tfidf_vectorizer.joblib\")\n",
    "vec_new_text = vectorizer.transform([new_text_clean])\n",
    "\n",
    "models ={\n",
    "    \"Logistic Regression\": joblib.load('../models/logistic_regression.pkl'),\n",
    "    \"SVM\": joblib.load('../models/svm.pkl'),\n",
    "    \"Random Forest\": joblib.load('../models/random_forest.pkl')\n",
    "}\n",
    "results = {}\n",
    "\n",
    "for name,model in models.items():\n",
    "    pred = model.predict(vec_new_text)[0]\n",
    "    prob = max(model.predict_proba(vec_new_text)[0])\n",
    "    results[name] = (pred, prob)\n",
    "\n",
    "\n",
    "chosen_model = \"SVM\"\n",
    "predicted_label = results[chosen_model][0]\n",
    "probability = results[chosen_model][1]\n",
    "\n",
    "print(f\"📄 Document: {doc_path}\")\n",
    "print(f\"🧠 Predicted Label ({chosen_model}): {predicted_label} (Confidence: {probability:.2f})\")\n",
    "\n",
    "output_path = '../reports/classification_results.csv'\n",
    "os.makedirs('../reports', exist_ok=True)\n",
    "\n",
    "with open(output_path, 'w') as f:\n",
    "    f.write(\"Model,Predicted Label,Confidence\\n\")\n",
    "    for name, (label, prob) in results.items():\n",
    "        f.write(f\"{name},{label},{prob:.4f}\\n\")\n",
    "\n",
    "FileLink(output_path)\n",
    "\n"
   ]
  },
  {
   "cell_type": "code",
   "execution_count": null,
   "id": "64bb0f2d",
   "metadata": {},
   "outputs": [],
   "source": []
  },
  {
   "cell_type": "code",
   "execution_count": null,
   "id": "9707e036",
   "metadata": {},
   "outputs": [
    {
     "name": "stdout",
     "output_type": "stream",
     "text": [
      "🎯 LangChain Output:\n",
      "\n",
      "**Title:** \"Adapting to the New Normal: The Evolution of Business Strategy in a Post-Pandemic World\"\n",
      "\n",
      "**Why this is a good title:** This title effectively captures the essence of the document, highlighting the theme of adaptation and transformation in the business world. It's also engaging and attention-grabbing, making it suitable for a business audience.\n",
      "\n",
      "**Why this document fits the category \"business\":** This document is categorized as business because it discusses the strategic transformations and trends in the global business landscape, including topics such as supply chain disruptions, digital transformation, and sustainable practices. The language used is technical and industry-specific, indicating that the document is intended for a professional or academic audience within the business sector.\n"
     ]
    }
   ],
   "source": [
    "from langchain.chat_models import ChatOpenAI\n",
    "from langchain.prompts import PromptTemplate\n",
    "\n",
    "\n",
    "# 🔑 Get API key (only first time)\n",
    "os.environ[\"OPENAI_API_KEY\"] = \"YOUR TOGETHER API KEY\"\n",
    "os.environ[\"OPENAI_API_BASE\"] = \"https://api.together.xyz/v1\"\n",
    "\n",
    "# Setup LangChain LLM (using LLaMA 3 model on Together)\n",
    "llm = ChatOpenAI(\n",
    "    model=\"meta-llama/Llama-3-8b-chat-hf\",  \n",
    "    temperature=0.7,\n",
    "    openai_api_key=os.environ[\"OPENAI_API_KEY\"],\n",
    "    openai_api_base=os.environ[\"OPENAI_API_BASE\"]\n",
    ")\n",
    "# Create prompt\n",
    "prompt = PromptTemplate.from_template(\"\"\"\n",
    "You are a document analysis assistant.\n",
    "\n",
    "Document:\n",
    "{text}\n",
    "\n",
    "Predicted Category: {category}\n",
    "\n",
    "1. Generate a suitable, engaging title for this document.\n",
    "2. Explain in 1-2 sentences **why this is a good title**.\n",
    "3. Explain in 1-2 sentences **why this document fits the category \"{category}\"**.\n",
    "\"\"\")\n",
    "\n",
    "# Generate response\n",
    "response = llm.invoke(prompt.format(text=new_text_clean[:2000], category=predicted_label))  # limit if very long\n",
    "\n",
    "print(\"🎯 LangChain Output:\\n\")\n",
    "print(response.content)\n"
   ]
  },
  {
   "cell_type": "code",
   "execution_count": null,
   "id": "eb1df147",
   "metadata": {},
   "outputs": [],
   "source": []
  }
 ],
 "metadata": {
  "kernelspec": {
   "display_name": "venv",
   "language": "python",
   "name": "python3"
  },
  "language_info": {
   "codemirror_mode": {
    "name": "ipython",
    "version": 3
   },
   "file_extension": ".py",
   "mimetype": "text/x-python",
   "name": "python",
   "nbconvert_exporter": "python",
   "pygments_lexer": "ipython3",
   "version": "3.13.4"
  }
 },
 "nbformat": 4,
 "nbformat_minor": 5
}
